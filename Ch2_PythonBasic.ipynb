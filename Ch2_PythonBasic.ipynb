{
  "nbformat": 4,
  "nbformat_minor": 0,
  "metadata": {
    "colab": {
      "provenance": [],
      "authorship_tag": "ABX9TyPMHpB8Nxc7YOKmyqNBLZv1",
      "include_colab_link": true
    },
    "kernelspec": {
      "name": "python3",
      "display_name": "Python 3"
    },
    "language_info": {
      "name": "python"
    }
  },
  "cells": [
    {
      "cell_type": "markdown",
      "metadata": {
        "id": "view-in-github",
        "colab_type": "text"
      },
      "source": [
        "<a href=\"https://colab.research.google.com/github/ralbu85/STML/blob/main/Ch2_PythonBasic.ipynb\" target=\"_parent\"><img src=\"https://colab.research.google.com/assets/colab-badge.svg\" alt=\"Open In Colab\"/></a>"
      ]
    },
    {
      "cell_type": "markdown",
      "source": [
        "# Chapter 2 Python Basic."
      ],
      "metadata": {
        "id": "mq9YCViwyVTQ"
      }
    },
    {
      "cell_type": "markdown",
      "source": [
        "## Value"
      ],
      "metadata": {
        "id": "BiaiL045zDAN"
      }
    },
    {
      "cell_type": "code",
      "execution_count": null,
      "metadata": {
        "colab": {
          "base_uri": "https://localhost:8080/"
        },
        "id": "Akk0Z5iDxvU4",
        "outputId": "232b14a7-3350-47ae-e2ab-ce938a2dea8e"
      },
      "outputs": [
        {
          "output_type": "execute_result",
          "data": {
            "text/plain": [
              "1"
            ]
          },
          "metadata": {},
          "execution_count": 1
        }
      ],
      "source": [
        "1 # number"
      ]
    },
    {
      "cell_type": "code",
      "source": [
        "3.141592 # float number"
      ],
      "metadata": {
        "colab": {
          "base_uri": "https://localhost:8080/"
        },
        "id": "CGyW6wZ0zVvJ",
        "outputId": "5bfe3071-9ec5-4616-c130-1b82cade44fe"
      },
      "execution_count": null,
      "outputs": [
        {
          "output_type": "execute_result",
          "data": {
            "text/plain": [
              "3.141592"
            ]
          },
          "metadata": {},
          "execution_count": 2
        }
      ]
    },
    {
      "cell_type": "code",
      "source": [
        "\"Hello World\" # String, text value"
      ],
      "metadata": {
        "colab": {
          "base_uri": "https://localhost:8080/",
          "height": 36
        },
        "id": "ARiWwI1dzZg8",
        "outputId": "834f3545-3e09-4fd7-af09-07ec55321b12"
      },
      "execution_count": null,
      "outputs": [
        {
          "output_type": "execute_result",
          "data": {
            "text/plain": [
              "'Hello World'"
            ],
            "application/vnd.google.colaboratory.intrinsic+json": {
              "type": "string"
            }
          },
          "metadata": {},
          "execution_count": 3
        }
      ]
    },
    {
      "cell_type": "code",
      "source": [
        "True, # boolean"
      ],
      "metadata": {
        "colab": {
          "base_uri": "https://localhost:8080/"
        },
        "id": "CjvfNHwNziAl",
        "outputId": "76c15d08-83a0-46f9-dea7-485c66b09952"
      },
      "execution_count": null,
      "outputs": [
        {
          "output_type": "execute_result",
          "data": {
            "text/plain": [
              "True"
            ]
          },
          "metadata": {},
          "execution_count": 4
        }
      ]
    },
    {
      "cell_type": "code",
      "source": [
        "False"
      ],
      "metadata": {
        "colab": {
          "base_uri": "https://localhost:8080/"
        },
        "id": "XnUScyjlzpsm",
        "outputId": "bf30347c-6ca7-401f-b1f4-47daf32a653b"
      },
      "execution_count": null,
      "outputs": [
        {
          "output_type": "execute_result",
          "data": {
            "text/plain": [
              "False"
            ]
          },
          "metadata": {},
          "execution_count": 6
        }
      ]
    },
    {
      "cell_type": "code",
      "source": [
        "1,3,5"
      ],
      "metadata": {
        "colab": {
          "base_uri": "https://localhost:8080/"
        },
        "id": "IYdLuXS8zzQ1",
        "outputId": "17deb488-003d-4608-dd0a-dcc029a4a514"
      },
      "execution_count": null,
      "outputs": [
        {
          "output_type": "execute_result",
          "data": {
            "text/plain": [
              "(1, 3, 5)"
            ]
          },
          "metadata": {},
          "execution_count": 7
        }
      ]
    },
    {
      "cell_type": "markdown",
      "source": [
        "## Variable"
      ],
      "metadata": {
        "id": "Q3QRl5jHzySo"
      }
    },
    {
      "cell_type": "code",
      "source": [
        "x = 1"
      ],
      "metadata": {
        "id": "l2mI_lUvz6ON"
      },
      "execution_count": null,
      "outputs": []
    },
    {
      "cell_type": "code",
      "source": [
        "print(x)"
      ],
      "metadata": {
        "colab": {
          "base_uri": "https://localhost:8080/"
        },
        "id": "jxCpjGPo0OPH",
        "outputId": "6ad65877-1255-485a-bd4b-4f66d1651570"
      },
      "execution_count": null,
      "outputs": [
        {
          "output_type": "stream",
          "name": "stdout",
          "text": [
            "1\n"
          ]
        }
      ]
    },
    {
      "cell_type": "code",
      "source": [
        "x = 3.141592\n",
        "print(x)"
      ],
      "metadata": {
        "colab": {
          "base_uri": "https://localhost:8080/"
        },
        "id": "Xhl2kGm40bbR",
        "outputId": "322f6832-8102-4df1-86d9-c10c42ab3563"
      },
      "execution_count": null,
      "outputs": [
        {
          "output_type": "stream",
          "name": "stdout",
          "text": [
            "3.141592\n"
          ]
        }
      ]
    },
    {
      "cell_type": "code",
      "source": [
        "y = True\n",
        "mystring = 'Hello World'"
      ],
      "metadata": {
        "id": "m7MWwyj40mje"
      },
      "execution_count": null,
      "outputs": []
    },
    {
      "cell_type": "code",
      "source": [
        "print(y, mystring)"
      ],
      "metadata": {
        "colab": {
          "base_uri": "https://localhost:8080/"
        },
        "id": "Zqqp_OUB0rhT",
        "outputId": "c84707d7-0ea3-4c95-f76a-46021a7a0897"
      },
      "execution_count": null,
      "outputs": [
        {
          "output_type": "stream",
          "name": "stdout",
          "text": [
            "True Hello World\n"
          ]
        }
      ]
    },
    {
      "cell_type": "markdown",
      "source": [
        "## List"
      ],
      "metadata": {
        "id": "gDlfmlcl0wue"
      }
    },
    {
      "cell_type": "code",
      "source": [
        "[1,3,5,7,9]"
      ],
      "metadata": {
        "colab": {
          "base_uri": "https://localhost:8080/"
        },
        "id": "M15b6zCb0x-_",
        "outputId": "887cf634-0565-4e30-9259-f869788bbc7b"
      },
      "execution_count": null,
      "outputs": [
        {
          "output_type": "execute_result",
          "data": {
            "text/plain": [
              "[1, 3, 5, 7, 9]"
            ]
          },
          "metadata": {},
          "execution_count": 14
        }
      ]
    },
    {
      "cell_type": "code",
      "source": [
        "x = [1,3,5,7,9]\n",
        "x"
      ],
      "metadata": {
        "colab": {
          "base_uri": "https://localhost:8080/"
        },
        "id": "8NTet9LC1HqD",
        "outputId": "34fdb0bc-2a59-413e-ec5b-e3347234eee9"
      },
      "execution_count": null,
      "outputs": [
        {
          "output_type": "execute_result",
          "data": {
            "text/plain": [
              "[1, 3, 5, 7, 9]"
            ]
          },
          "metadata": {},
          "execution_count": 15
        }
      ]
    },
    {
      "cell_type": "code",
      "source": [
        "x[0] # first element in the list x"
      ],
      "metadata": {
        "colab": {
          "base_uri": "https://localhost:8080/"
        },
        "id": "j0SYaLWK1Nr_",
        "outputId": "7d1913d6-e462-41e0-8534-0c25ff9e9db9"
      },
      "execution_count": null,
      "outputs": [
        {
          "output_type": "execute_result",
          "data": {
            "text/plain": [
              "1"
            ]
          },
          "metadata": {},
          "execution_count": 16
        }
      ]
    },
    {
      "cell_type": "code",
      "source": [
        "x[1] # second element"
      ],
      "metadata": {
        "colab": {
          "base_uri": "https://localhost:8080/"
        },
        "id": "qHy53eCy1Wua",
        "outputId": "00465af3-863c-491a-e60c-53dbd115a777"
      },
      "execution_count": null,
      "outputs": [
        {
          "output_type": "execute_result",
          "data": {
            "text/plain": [
              "3"
            ]
          },
          "metadata": {},
          "execution_count": 17
        }
      ]
    },
    {
      "cell_type": "markdown",
      "source": [
        "## Numpy"
      ],
      "metadata": {
        "id": "8ZSi1Rwf1gA1"
      }
    },
    {
      "cell_type": "code",
      "source": [
        "# module: 3rd party library by others\n",
        "# numpy: is a module for specialized in vector/matrix calculation\n",
        "import numpy as np # I will use numpy as the 'np' in this notebook"
      ],
      "metadata": {
        "id": "yvF2mG5d1hR7"
      },
      "execution_count": null,
      "outputs": []
    },
    {
      "cell_type": "code",
      "source": [
        "## making vector from python list\n",
        "x = np.array([1,3,5,7,9])\n",
        "y = np.array([2,4,6,8,10])"
      ],
      "metadata": {
        "id": "VzmBWSuW2IsZ"
      },
      "execution_count": null,
      "outputs": []
    },
    {
      "cell_type": "code",
      "source": [
        "## Vector Calculus using numpy array\n",
        "print(x + 1)\n",
        "print(x * 2)\n",
        "print(x / 2)\n",
        "print(x ** 2) # square\n",
        "print(x % 2)"
      ],
      "metadata": {
        "colab": {
          "base_uri": "https://localhost:8080/"
        },
        "id": "KyNqb6ji2qHq",
        "outputId": "3752b55e-febe-4095-8bef-d14f7e1e0623"
      },
      "execution_count": null,
      "outputs": [
        {
          "output_type": "stream",
          "name": "stdout",
          "text": [
            "[ 2  4  6  8 10]\n",
            "[ 2  6 10 14 18]\n",
            "[0.5 1.5 2.5 3.5 4.5]\n",
            "[ 1  9 25 49 81]\n",
            "[1 1 1 1 1]\n"
          ]
        }
      ]
    },
    {
      "cell_type": "code",
      "source": [
        "print(x + y)\n",
        "print(x * y)\n",
        "print(x - y)\n",
        "print(x / y)"
      ],
      "metadata": {
        "colab": {
          "base_uri": "https://localhost:8080/"
        },
        "id": "eqbLYUOv28yt",
        "outputId": "04dd4ee9-66d4-4cd0-b9da-8168326d0106"
      },
      "execution_count": null,
      "outputs": [
        {
          "output_type": "stream",
          "name": "stdout",
          "text": [
            "[ 3  7 11 15 19]\n",
            "[ 2 12 30 56 90]\n",
            "[-1 -1 -1 -1 -1]\n",
            "[0.5        0.75       0.83333333 0.875      0.9       ]\n"
          ]
        }
      ]
    },
    {
      "cell_type": "markdown",
      "source": [
        "## Matrix using numpy"
      ],
      "metadata": {
        "id": "Jhxbr9CJ3Q8_"
      }
    },
    {
      "cell_type": "code",
      "source": [
        "m = [[1,2,3],[4,5,6]]"
      ],
      "metadata": {
        "id": "oGn2vYlY3i7q"
      },
      "execution_count": null,
      "outputs": []
    },
    {
      "cell_type": "code",
      "source": [
        "# numpy matrix\n",
        "# we put 2d python list to numpy array\n",
        "m = np.array(m) # save the result to m (overwrite)"
      ],
      "metadata": {
        "id": "fiZwo5p43l4W"
      },
      "execution_count": null,
      "outputs": []
    },
    {
      "cell_type": "code",
      "source": [
        "m.ndim # number of dimension"
      ],
      "metadata": {
        "colab": {
          "base_uri": "https://localhost:8080/"
        },
        "id": "rjOEVtC_3uD8",
        "outputId": "ce777727-cc95-4b94-a95c-ab857e4b12cb"
      },
      "execution_count": null,
      "outputs": [
        {
          "output_type": "execute_result",
          "data": {
            "text/plain": [
              "2"
            ]
          },
          "metadata": {},
          "execution_count": 36
        }
      ]
    },
    {
      "cell_type": "code",
      "source": [
        "m.shape # shape of the matrix"
      ],
      "metadata": {
        "colab": {
          "base_uri": "https://localhost:8080/"
        },
        "id": "yf1RYI7n4ADu",
        "outputId": "2de62d88-76b6-41c6-d9fb-f9787d34c2a7"
      },
      "execution_count": null,
      "outputs": [
        {
          "output_type": "execute_result",
          "data": {
            "text/plain": [
              "(2, 3)"
            ]
          },
          "metadata": {},
          "execution_count": 37
        }
      ]
    },
    {
      "cell_type": "code",
      "source": [
        "m.reshape(3,2)"
      ],
      "metadata": {
        "colab": {
          "base_uri": "https://localhost:8080/"
        },
        "id": "ox6ERfiw4FkL",
        "outputId": "e83439f8-7f21-41bb-b507-975d01075ee4"
      },
      "execution_count": null,
      "outputs": [
        {
          "output_type": "execute_result",
          "data": {
            "text/plain": [
              "array([[1, 2],\n",
              "       [3, 4],\n",
              "       [5, 6]])"
            ]
          },
          "metadata": {},
          "execution_count": 38
        }
      ]
    },
    {
      "cell_type": "code",
      "source": [
        "m.reshape(6,1)"
      ],
      "metadata": {
        "colab": {
          "base_uri": "https://localhost:8080/"
        },
        "id": "D__F40OI4PvW",
        "outputId": "c4c54fc1-b241-48a0-dc39-aa5296d0ef00"
      },
      "execution_count": null,
      "outputs": [
        {
          "output_type": "execute_result",
          "data": {
            "text/plain": [
              "array([[1],\n",
              "       [2],\n",
              "       [3],\n",
              "       [4],\n",
              "       [5],\n",
              "       [6]])"
            ]
          },
          "metadata": {},
          "execution_count": 39
        }
      ]
    },
    {
      "cell_type": "code",
      "source": [
        "# calculate the statistics using matrix object\n",
        "m.mean(), np.mean(m)"
      ],
      "metadata": {
        "colab": {
          "base_uri": "https://localhost:8080/"
        },
        "id": "TLYX28E74V7G",
        "outputId": "9356f16a-e61b-4cf9-9613-c08b7a300c83"
      },
      "execution_count": null,
      "outputs": [
        {
          "output_type": "execute_result",
          "data": {
            "text/plain": [
              "(3.5, 3.5)"
            ]
          },
          "metadata": {},
          "execution_count": 41
        }
      ]
    },
    {
      "cell_type": "code",
      "source": [
        "m.var(), np.var(m)"
      ],
      "metadata": {
        "colab": {
          "base_uri": "https://localhost:8080/"
        },
        "id": "mZSDRVgm40LG",
        "outputId": "691ea37b-3fbc-4db4-9b3e-d55ea635f5ad"
      },
      "execution_count": null,
      "outputs": [
        {
          "output_type": "execute_result",
          "data": {
            "text/plain": [
              "(2.9166666666666665, 2.9166666666666665)"
            ]
          },
          "metadata": {},
          "execution_count": 42
        }
      ]
    },
    {
      "cell_type": "code",
      "source": [
        "m.std(), np.std(m)"
      ],
      "metadata": {
        "colab": {
          "base_uri": "https://localhost:8080/"
        },
        "id": "ial9jPEM42zg",
        "outputId": "ca8107b0-f121-4fd1-b4d8-216625862402"
      },
      "execution_count": null,
      "outputs": [
        {
          "output_type": "execute_result",
          "data": {
            "text/plain": [
              "(1.707825127659933, 1.707825127659933)"
            ]
          },
          "metadata": {},
          "execution_count": 43
        }
      ]
    },
    {
      "cell_type": "markdown",
      "source": [
        "## Generate Sequence, slicing, and index"
      ],
      "metadata": {
        "id": "LpCPSUTX4-Co"
      }
    },
    {
      "cell_type": "code",
      "source": [
        "# generate sequence using arange\n",
        "\n",
        "x = np.arange(1,10) # from 0 ~ 9, 10 element\n",
        "x"
      ],
      "metadata": {
        "colab": {
          "base_uri": "https://localhost:8080/"
        },
        "id": "EUNuiTYS5B0t",
        "outputId": "88c94f09-9e8a-41aa-c2e5-180f9ff969dc"
      },
      "execution_count": null,
      "outputs": [
        {
          "output_type": "execute_result",
          "data": {
            "text/plain": [
              "array([1, 2, 3, 4, 5, 6, 7, 8, 9])"
            ]
          },
          "metadata": {},
          "execution_count": 47
        }
      ]
    },
    {
      "cell_type": "code",
      "source": [
        "# generate a sequence by dividing the user inputted range\n",
        "y = np.linspace(0,20,7) # from 0, end 20, dvide range into 7 segement"
      ],
      "metadata": {
        "id": "p4WRACVi5hZa"
      },
      "execution_count": null,
      "outputs": []
    },
    {
      "cell_type": "code",
      "source": [
        "# slicing -> slice the vector into small part\n",
        "x, x[1:3], x[2:5], x[:3], x[3:] # from index 1 to 2"
      ],
      "metadata": {
        "colab": {
          "base_uri": "https://localhost:8080/"
        },
        "id": "ndK9O6Pd5zIk",
        "outputId": "8ebf17d3-e61f-4d33-b7e6-441027a077d9"
      },
      "execution_count": null,
      "outputs": [
        {
          "output_type": "execute_result",
          "data": {
            "text/plain": [
              "(array([1, 2, 3, 4, 5, 6, 7, 8, 9]),\n",
              " array([2, 3]),\n",
              " array([3, 4, 5]),\n",
              " array([1, 2, 3]),\n",
              " array([4, 5, 6, 7, 8, 9]))"
            ]
          },
          "metadata": {},
          "execution_count": 56
        }
      ]
    },
    {
      "cell_type": "code",
      "source": [
        "m = np.arange(16).reshape(4,4)\n",
        "print(m)\n",
        "print(m[0,0])\n",
        "print(m[2,2])\n",
        "print(m[0,:]) # select first row\n",
        "print(m[:,0]) # select first column"
      ],
      "metadata": {
        "colab": {
          "base_uri": "https://localhost:8080/"
        },
        "id": "j11f3a7g6p81",
        "outputId": "fa098695-77ad-4afe-97ce-a97d8476d786"
      },
      "execution_count": null,
      "outputs": [
        {
          "output_type": "stream",
          "name": "stdout",
          "text": [
            "[[ 0  1  2  3]\n",
            " [ 4  5  6  7]\n",
            " [ 8  9 10 11]\n",
            " [12 13 14 15]]\n",
            "0\n",
            "10\n",
            "[0 1 2 3]\n",
            "[ 0  4  8 12]\n"
          ]
        }
      ]
    },
    {
      "cell_type": "code",
      "source": [
        "## Boolean Indexing\n",
        "a = np.arange(16)\n",
        "a"
      ],
      "metadata": {
        "colab": {
          "base_uri": "https://localhost:8080/"
        },
        "id": "U-ejlLJl7Lo1",
        "outputId": "889f81b5-35f2-46a8-c1b4-ce46be1a7c92"
      },
      "execution_count": null,
      "outputs": [
        {
          "output_type": "execute_result",
          "data": {
            "text/plain": [
              "array([ 0,  1,  2,  3,  4,  5,  6,  7,  8,  9, 10, 11, 12, 13, 14, 15])"
            ]
          },
          "metadata": {},
          "execution_count": 66
        }
      ]
    },
    {
      "cell_type": "code",
      "source": [
        "3 > 4, 3 == 3, 3 < 4"
      ],
      "metadata": {
        "colab": {
          "base_uri": "https://localhost:8080/"
        },
        "id": "HovymfF27NxO",
        "outputId": "4d48fac8-35c1-44ea-a325-fbc81c90a558"
      },
      "execution_count": null,
      "outputs": [
        {
          "output_type": "execute_result",
          "data": {
            "text/plain": [
              "(False, True, True)"
            ]
          },
          "metadata": {},
          "execution_count": 69
        }
      ]
    },
    {
      "cell_type": "code",
      "source": [
        "a > 3 # returns True if element is larger than 3 and else False"
      ],
      "metadata": {
        "colab": {
          "base_uri": "https://localhost:8080/"
        },
        "id": "j1eCxM-87d7s",
        "outputId": "513c54ec-fe37-44ae-b2b3-1ddd8850adb0"
      },
      "execution_count": null,
      "outputs": [
        {
          "output_type": "execute_result",
          "data": {
            "text/plain": [
              "array([False, False, False, False,  True,  True,  True,  True,  True,\n",
              "        True,  True,  True,  True,  True,  True,  True])"
            ]
          },
          "metadata": {},
          "execution_count": 70
        }
      ]
    },
    {
      "cell_type": "code",
      "source": [
        "a[a>3] # retrive element that satisfy the condition inside the index"
      ],
      "metadata": {
        "colab": {
          "base_uri": "https://localhost:8080/"
        },
        "id": "hTa6xwBu7qIo",
        "outputId": "ea7ee48a-efbb-4fea-f149-471426e53c11"
      },
      "execution_count": null,
      "outputs": [
        {
          "output_type": "execute_result",
          "data": {
            "text/plain": [
              "array([ 4,  5,  6,  7,  8,  9, 10, 11, 12, 13, 14, 15])"
            ]
          },
          "metadata": {},
          "execution_count": 71
        }
      ]
    },
    {
      "cell_type": "code",
      "source": [
        "a[(a<3) | (a>7)]"
      ],
      "metadata": {
        "colab": {
          "base_uri": "https://localhost:8080/"
        },
        "id": "-hL9b5tY74j3",
        "outputId": "a3002a0d-a526-4bb6-d657-c7f59ee7befd"
      },
      "execution_count": null,
      "outputs": [
        {
          "output_type": "execute_result",
          "data": {
            "text/plain": [
              "array([ 0,  1,  2,  8,  9, 10, 11, 12, 13, 14, 15])"
            ]
          },
          "metadata": {},
          "execution_count": 73
        }
      ]
    },
    {
      "cell_type": "code",
      "source": [
        "a[(a==5) & (a>3)]"
      ],
      "metadata": {
        "colab": {
          "base_uri": "https://localhost:8080/"
        },
        "id": "RUHxRGt-8A_T",
        "outputId": "74ef8a7b-82b9-4cac-db54-46ef1df4a91d"
      },
      "execution_count": null,
      "outputs": [
        {
          "output_type": "execute_result",
          "data": {
            "text/plain": [
              "array([5])"
            ]
          },
          "metadata": {},
          "execution_count": 74
        }
      ]
    },
    {
      "cell_type": "code",
      "source": [
        "a[(a!=5) & (a>3)]"
      ],
      "metadata": {
        "colab": {
          "base_uri": "https://localhost:8080/"
        },
        "id": "2XD5UlFH8HdF",
        "outputId": "648800f0-87de-48b7-c013-c82ebabb5d39"
      },
      "execution_count": null,
      "outputs": [
        {
          "output_type": "execute_result",
          "data": {
            "text/plain": [
              "array([ 4,  6,  7,  8,  9, 10, 11, 12, 13, 14, 15])"
            ]
          },
          "metadata": {},
          "execution_count": 75
        }
      ]
    },
    {
      "cell_type": "markdown",
      "source": [
        "## Random Number Generator"
      ],
      "metadata": {
        "id": "yWTAUzwj5g4w"
      }
    },
    {
      "cell_type": "code",
      "source": [
        "# Draw random numbers from standard normal distribution\n",
        "x = np.random.normal(size=50)\n",
        "x"
      ],
      "metadata": {
        "colab": {
          "base_uri": "https://localhost:8080/"
        },
        "id": "CKqc_zpo8TKM",
        "outputId": "8287e2e4-c83e-414d-9221-b4441a36e66f"
      },
      "execution_count": null,
      "outputs": [
        {
          "output_type": "execute_result",
          "data": {
            "text/plain": [
              "array([-0.11699632,  0.56729728, -0.87168992, -1.32563911, -1.16608246,\n",
              "        0.01865264,  0.44808644,  3.44956718, -0.72514043,  1.33332952,\n",
              "        0.15253819,  0.80552919, -0.77493064,  0.50977174, -1.13616204,\n",
              "       -0.7513674 ,  0.0308091 ,  0.9295532 ,  1.56962559, -1.12142973,\n",
              "        1.089631  ,  0.72410401, -1.95252152, -0.37709147,  0.98459465,\n",
              "        2.27194434,  0.60181445,  0.36477127,  0.36850037, -0.47173024,\n",
              "        0.37654994,  0.12969076, -0.55816415, -0.50155958, -1.14032983,\n",
              "       -1.57602289, -2.06558038,  1.27683835, -0.10696387, -0.44915662,\n",
              "        0.03656744, -0.01732233, -0.67736932,  0.18812287,  0.26687935,\n",
              "       -0.21262137, -0.44901618,  0.77624174, -0.56285782, -0.58760404])"
            ]
          },
          "metadata": {},
          "execution_count": 77
        }
      ]
    },
    {
      "cell_type": "code",
      "source": [
        "y = x + np.random.normal(loc=50, scale=1, size=50)"
      ],
      "metadata": {
        "id": "Ip8NU7qF8eKd"
      },
      "execution_count": null,
      "outputs": []
    },
    {
      "cell_type": "code",
      "source": [
        "np.corrcoef(x,y)"
      ],
      "metadata": {
        "colab": {
          "base_uri": "https://localhost:8080/"
        },
        "id": "GHScz1Ml8zPU",
        "outputId": "8012ec81-778f-4387-9f7b-46677e5a169b"
      },
      "execution_count": null,
      "outputs": [
        {
          "output_type": "execute_result",
          "data": {
            "text/plain": [
              "array([[1.        , 0.64656205],\n",
              "       [0.64656205, 1.        ]])"
            ]
          },
          "metadata": {},
          "execution_count": 80
        }
      ]
    },
    {
      "cell_type": "markdown",
      "source": [
        "## Graph"
      ],
      "metadata": {
        "id": "90RlSiNc9VJv"
      }
    },
    {
      "cell_type": "code",
      "source": [
        "# module name: matplotlib\n",
        "# (almost) standard module for graph in python community\n",
        "import matplotlib.pyplot as plt"
      ],
      "metadata": {
        "id": "LC9fBIwV9WRE"
      },
      "execution_count": null,
      "outputs": []
    },
    {
      "cell_type": "code",
      "source": [
        "x = np.random.normal(size=100)\n",
        "y = np.random.normal(size=100)"
      ],
      "metadata": {
        "id": "_j706_Ea924b"
      },
      "execution_count": null,
      "outputs": []
    },
    {
      "cell_type": "code",
      "source": [
        "## draw a scatter plot\n",
        "## useful for finding relationship between two variables\n",
        "\n",
        "plt.scatter(x,y)"
      ],
      "metadata": {
        "colab": {
          "base_uri": "https://localhost:8080/",
          "height": 449
        },
        "id": "B-a00IkP9-uv",
        "outputId": "5287eaeb-0d10-422e-8a57-5aa303adc202"
      },
      "execution_count": null,
      "outputs": [
        {
          "output_type": "execute_result",
          "data": {
            "text/plain": [
              "<matplotlib.collections.PathCollection at 0x7a5174cedb70>"
            ]
          },
          "metadata": {},
          "execution_count": 84
        },
        {
          "output_type": "display_data",
          "data": {
            "text/plain": [
              "<Figure size 640x480 with 1 Axes>"
            ],
            "image/png": "[encoded data removed]"
          },
          "metadata": {}
        }
      ]
    },
    {
      "cell_type": "code",
      "source": [
        "## histogram\n",
        "## drawing a distribution for a single variable\n",
        "\n",
        "plt.hist(x, bins=10)"
      ],
      "metadata": {
        "colab": {
          "base_uri": "https://localhost:8080/",
          "height": 525
        },
        "id": "cvAeiM9i-QXV",
        "outputId": "86c070d3-1cc9-4613-c488-2a47b86b030f"
      },
      "execution_count": null,
      "outputs": [
        {
          "output_type": "execute_result",
          "data": {
            "text/plain": [
              "(array([ 3.,  7., 12., 18., 12., 15., 12.,  9.,  9.,  3.]),\n",
              " array([-2.17397252, -1.73707779, -1.30018306, -0.86328833, -0.4263936 ,\n",
              "         0.01050113,  0.44739586,  0.88429059,  1.32118532,  1.75808005,\n",
              "         2.19497478]),\n",
              " <BarContainer object of 10 artists>)"
            ]
          },
          "metadata": {},
          "execution_count": 86
        },
        {
          "output_type": "display_data",
          "data": {
            "text/plain": [
              "<Figure size 640x480 with 1 Axes>"
            ],
            "image/png": "[encoded data removed]"
          },
          "metadata": {}
        }
      ]
    },
    {
      "cell_type": "code",
      "source": [
        "## lineplot\n",
        "## connect the point to point with line\n",
        "## useful for visualizing the time trend\n",
        "plt.plot(x)"
      ],
      "metadata": {
        "colab": {
          "base_uri": "https://localhost:8080/",
          "height": 449
        },
        "id": "Da8mh_rF-gms",
        "outputId": "08efde42-da25-49a1-b247-1328a81359ab"
      },
      "execution_count": null,
      "outputs": [
        {
          "output_type": "execute_result",
          "data": {
            "text/plain": [
              "[<matplotlib.lines.Line2D at 0x7a5174934220>]"
            ]
          },
          "metadata": {},
          "execution_count": 87
        },
        {
          "output_type": "display_data",
          "data": {
            "text/plain": [
              "<Figure size 640x480 with 1 Axes>"
            ],
            "image/png": "[encoded data removed]"
          },
          "metadata": {}
        }
      ]
    },
    {
      "cell_type": "code",
      "source": [
        "## change the option of the figure\n",
        "plt.figure(figsize=(8,6))\n",
        "plt.scatter(x,y, marker='+')\n",
        "plt.xlabel('x vector')\n",
        "plt.ylabel('y vector')\n",
        "plt.title('x vs y')"
      ],
      "metadata": {
        "colab": {
          "base_uri": "https://localhost:8080/",
          "height": 583
        },
        "id": "6a24v9gw-wSN",
        "outputId": "814dbfa9-1a12-4c81-ad80-517c5ead08cd"
      },
      "execution_count": null,
      "outputs": [
        {
          "output_type": "execute_result",
          "data": {
            "text/plain": [
              "Text(0.5, 1.0, 'x vs y')"
            ]
          },
          "metadata": {},
          "execution_count": 92
        },
        {
          "output_type": "display_data",
          "data": {
            "text/plain": [
              "<Figure size 800x600 with 1 Axes>"
            ],
            "image/png": "[encoded data removed]"
          },
          "metadata": {}
        }
      ]
    },
    {
      "cell_type": "markdown",
      "source": [
        "## Graph Overlapping"
      ],
      "metadata": {
        "id": "do_LgthR_J7G"
      }
    },
    {
      "cell_type": "code",
      "source": [
        "x = np.linspace(-np.pi, np.pi, 50)\n",
        "y = np.sin(x)"
      ],
      "metadata": {
        "id": "Be-QkbIg_M5L"
      },
      "execution_count": null,
      "outputs": []
    },
    {
      "cell_type": "code",
      "source": [
        "plt.plot(x,y, label='sin')\n",
        "plt.plot(x,np.cos(x), label='cos')\n",
        "plt.legend()\n",
        "plt.xlabel('x')\n",
        "plt.ylabel('sin and cos')"
      ],
      "metadata": {
        "colab": {
          "base_uri": "https://localhost:8080/",
          "height": 468
        },
        "id": "9lufWVNS_d9H",
        "outputId": "e2ad65a7-fdde-4468-8e08-2af495d7c57a"
      },
      "execution_count": null,
      "outputs": [
        {
          "output_type": "execute_result",
          "data": {
            "text/plain": [
              "Text(0, 0.5, 'sin and cos')"
            ]
          },
          "metadata": {},
          "execution_count": 100
        },
        {
          "output_type": "display_data",
          "data": {
            "text/plain": [
              "<Figure size 640x480 with 1 Axes>"
            ],
            "image/png": "[encoded data removed]"
          },
          "metadata": {}
        }
      ]
    },
    {
      "cell_type": "markdown",
      "source": [
        "## Subplotting"
      ],
      "metadata": {
        "id": "Upxlz0rM_4NZ"
      }
    },
    {
      "cell_type": "code",
      "source": [
        "fig, ax = plt.subplots(2,2,figsize=(12,6)) # we can access each sub graph using ax\n",
        "ax[0,0].plot(x,np.sin(x))\n",
        "ax[0,1].plot(x,np.cos(x))\n",
        "ax[1,0].scatter(x,np.cos(x))\n",
        "ax[1,1].hist(np.cos(x))"
      ],
      "metadata": {
        "colab": {
          "base_uri": "https://localhost:8080/",
          "height": 569
        },
        "id": "ncxU0eFe_6Kg",
        "outputId": "9dc2a494-7c4f-471f-b59d-f6aea71e0163"
      },
      "execution_count": null,
      "outputs": [
        {
          "output_type": "execute_result",
          "data": {
            "text/plain": [
              "(array([12.,  4.,  4.,  2.,  4.,  2.,  4.,  4.,  4., 10.]),\n",
              " array([-1.        , -0.80020546, -0.60041092, -0.40061638, -0.20082184,\n",
              "        -0.0010273 ,  0.19876724,  0.39856177,  0.59835631,  0.79815085,\n",
              "         0.99794539]),\n",
              " <BarContainer object of 10 artists>)"
            ]
          },
          "metadata": {},
          "execution_count": 106
        },
        {
          "output_type": "display_data",
          "data": {
            "text/plain": [
              "<Figure size 1200x600 with 4 Axes>"
            ],
            "image/png": "[encoded data removed]"
          },
          "metadata": {}
        }
      ]
    }
  ]
}