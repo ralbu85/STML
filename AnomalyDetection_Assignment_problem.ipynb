{
  "cells": [
    {
      "cell_type": "markdown",
      "id": "09673793-0704-46c4-bf9c-03abe274a483",
      "metadata": {
        "id": "09673793-0704-46c4-bf9c-03abe274a483"
      },
      "source": [
        "## Special Topics to Machine Learning Project Assignment"
      ]
    },
    {
      "cell_type": "markdown",
      "id": "0bddbdfb-eba7-449b-85a3-15f8cda0f13d",
      "metadata": {
        "id": "0bddbdfb-eba7-449b-85a3-15f8cda0f13d"
      },
      "source": [
        "* After you run the above code, data will be saved in the df variable.\n",
        "* The dataset is collected from sensors attached to the vessel main engine (to keep the confidential issue, every column name and its sensor value is normalized).\n",
        "* The objective is to train an anomaly detector using Isolation Forest.\n",
        "* There is a label in the dataset (column class), where 0 means a normal datapoint and 1 means an anomalous datapoint.\n",
        "* You will need to preprocess the data, split it into training and testing sets, and then apply the Isolation Forest algorithm to detect anomalies.\n",
        "* Finally, evaluate the performance of your model using appropriate metrics and visualize the results to understand the model's effectiveness."
      ]
    },
    {
      "cell_type": "markdown",
      "id": "4e3a9665-ba0d-4ecb-a407-f7c021a7737b",
      "metadata": {
        "id": "4e3a9665-ba0d-4ecb-a407-f7c021a7737b"
      },
      "source": [
        "## 1. Importing dataset and module"
      ]
    },
    {
      "cell_type": "code",
      "execution_count": 1,
      "id": "2ea336d6",
      "metadata": {
        "ExecuteTime": {
          "end_time": "2024-06-05T07:01:54.440019Z",
          "start_time": "2024-06-05T07:01:51.507887Z"
        },
        "collapsed": true,
        "jupyter": {
          "outputs_hidden": true
        },
        "tags": [],
        "colab": {
          "base_uri": "https://localhost:8080/"
        },
        "id": "2ea336d6",
        "outputId": "e0ddb366-60ab-474e-dfa1-7bf03dff100c"
      },
      "outputs": [
        {
          "output_type": "stream",
          "name": "stdout",
          "text": [
            "Collecting pyod\n",
            "  Downloading pyod-2.0.0.tar.gz (164 kB)\n",
            "\u001b[2K     \u001b[90m━━━━━━━━━━━━━━━━━━━━━━━━━━━━━━━━━━━━━━━━\u001b[0m \u001b[32m165.0/165.0 kB\u001b[0m \u001b[31m1.2 MB/s\u001b[0m eta \u001b[36m0:00:00\u001b[0m\n",
            "\u001b[?25h  Preparing metadata (setup.py) ... \u001b[?25l\u001b[?25hdone\n",
            "Requirement already satisfied: joblib in /usr/local/lib/python3.10/dist-packages (from pyod) (1.4.2)\n",
            "Requirement already satisfied: matplotlib in /usr/local/lib/python3.10/dist-packages (from pyod) (3.7.1)\n",
            "Requirement already satisfied: numpy>=1.19 in /usr/local/lib/python3.10/dist-packages (from pyod) (1.25.2)\n",
            "Requirement already satisfied: numba>=0.51 in /usr/local/lib/python3.10/dist-packages (from pyod) (0.58.1)\n",
            "Requirement already satisfied: scipy>=1.5.1 in /usr/local/lib/python3.10/dist-packages (from pyod) (1.11.4)\n",
            "Requirement already satisfied: scikit-learn>=0.22.0 in /usr/local/lib/python3.10/dist-packages (from pyod) (1.2.2)\n",
            "Requirement already satisfied: llvmlite<0.42,>=0.41.0dev0 in /usr/local/lib/python3.10/dist-packages (from numba>=0.51->pyod) (0.41.1)\n",
            "Requirement already satisfied: threadpoolctl>=2.0.0 in /usr/local/lib/python3.10/dist-packages (from scikit-learn>=0.22.0->pyod) (3.5.0)\n",
            "Requirement already satisfied: contourpy>=1.0.1 in /usr/local/lib/python3.10/dist-packages (from matplotlib->pyod) (1.2.1)\n",
            "Requirement already satisfied: cycler>=0.10 in /usr/local/lib/python3.10/dist-packages (from matplotlib->pyod) (0.12.1)\n",
            "Requirement already satisfied: fonttools>=4.22.0 in /usr/local/lib/python3.10/dist-packages (from matplotlib->pyod) (4.52.4)\n",
            "Requirement already satisfied: kiwisolver>=1.0.1 in /usr/local/lib/python3.10/dist-packages (from matplotlib->pyod) (1.4.5)\n",
            "Requirement already satisfied: packaging>=20.0 in /usr/local/lib/python3.10/dist-packages (from matplotlib->pyod) (24.0)\n",
            "Requirement already satisfied: pillow>=6.2.0 in /usr/local/lib/python3.10/dist-packages (from matplotlib->pyod) (9.4.0)\n",
            "Requirement already satisfied: pyparsing>=2.3.1 in /usr/local/lib/python3.10/dist-packages (from matplotlib->pyod) (3.1.2)\n",
            "Requirement already satisfied: python-dateutil>=2.7 in /usr/local/lib/python3.10/dist-packages (from matplotlib->pyod) (2.8.2)\n",
            "Requirement already satisfied: six>=1.5 in /usr/local/lib/python3.10/dist-packages (from python-dateutil>=2.7->matplotlib->pyod) (1.16.0)\n",
            "Building wheels for collected packages: pyod\n",
            "  Building wheel for pyod (setup.py) ... \u001b[?25l\u001b[?25hdone\n",
            "  Created wheel for pyod: filename=pyod-2.0.0-py3-none-any.whl size=196324 sha256=61de9cd3d4351a3b7f8babdfaefb349ff5d24324022c2c7c0a7205e6805ccb5b\n",
            "  Stored in directory: /root/.cache/pip/wheels/15/0e/91/96b270e6741d4eece88727489411330226ff47ac1cb9ea0097\n",
            "Successfully built pyod\n",
            "Installing collected packages: pyod\n",
            "Successfully installed pyod-2.0.0\n"
          ]
        }
      ],
      "source": [
        "# To do the assignment you have to run this cell\n",
        "# After run this code, your colab will install anomaly detection module (but their interface is the same with sklearn)\n",
        "!pip install pyod"
      ]
    },
    {
      "cell_type": "code",
      "execution_count": 2,
      "id": "8b31876e-c0bc-493e-b75b-55ba1a0a52f0",
      "metadata": {
        "id": "8b31876e-c0bc-493e-b75b-55ba1a0a52f0"
      },
      "outputs": [],
      "source": [
        "# Step 0: Import necessary modeuls\n",
        "import numpy as np\n",
        "import pandas as pd\n",
        "from pyod.models.iforest import IForest\n",
        "from sklearn.metrics import classification_report, confusion_matrix\n",
        "from sklearn.preprocessing import StandardScaler\n",
        "from sklearn.model_selection import train_test_split, GridSearchCV\n",
        "\n",
        "# Step 1: Load the dataset from pyod\n",
        "df = pd.read_csv('https://raw.githubusercontent.com/ralbu85/STML/main/assignment_data.csv.csv')\n",
        "df = df[['Dim_0','Dim_16','Dim_17','Dim_18','Dim_19','Dim_20','class']]"
      ]
    },
    {
      "cell_type": "code",
      "execution_count": 3,
      "id": "aef426c7-166f-4d34-937a-0be4b6a428bf",
      "metadata": {
        "colab": {
          "base_uri": "https://localhost:8080/",
          "height": 424
        },
        "id": "aef426c7-166f-4d34-937a-0be4b6a428bf",
        "outputId": "07780ad3-ee5b-4c34-c0eb-7e6a3df2ce5d"
      },
      "outputs": [
        {
          "output_type": "execute_result",
          "data": {
            "text/plain": [
              "         Dim_0    Dim_16    Dim_17    Dim_18    Dim_19    Dim_20  class\n",
              "0     0.750000  0.001132  0.080780  0.197324  0.300926  0.225000      0\n",
              "1     0.239583  0.000472  0.164345  0.235786  0.537037  0.165625      0\n",
              "2     0.479167  0.003585  0.130919  0.167224  0.527778  0.118750      0\n",
              "3     0.656250  0.001698  0.091922  0.125418  0.337963  0.129688      0\n",
              "4     0.229167  0.000472  0.142061  0.229097  0.337963  0.235938      0\n",
              "...        ...       ...       ...       ...       ...       ...    ...\n",
              "7195  0.604167  0.004717  0.113092  0.128763  0.379630  0.121875      0\n",
              "7196  0.520833  0.200000  0.030641  0.005017  0.333333  0.005469      1\n",
              "7197  0.520833  0.001434  0.109192  0.147157  0.231481  0.206250      0\n",
              "7198  0.354167  0.005283  0.109192  0.147157  0.333333  0.154688      0\n",
              "7199  0.750000  0.001057  0.109192  0.132107  0.337963  0.137500      0\n",
              "\n",
              "[7200 rows x 7 columns]"
            ],
            "text/html": [
              "\n",
              "  <div id=\"df-dd53123d-f77f-4943-a1c4-cf52aa6b2685\" class=\"colab-df-container\">\n",
              "    <div>\n",
              "<style scoped>\n",
              "    .dataframe tbody tr th:only-of-type {\n",
              "        vertical-align: middle;\n",
              "    }\n",
              "\n",
              "    .dataframe tbody tr th {\n",
              "        vertical-align: top;\n",
              "    }\n",
              "\n",
              "    .dataframe thead th {\n",
              "        text-align: right;\n",
              "    }\n",
              "</style>\n",
              "<table border=\"1\" class=\"dataframe\">\n",
              "  <thead>\n",
              "    <tr style=\"text-align: right;\">\n",
              "      <th></th>\n",
              "      <th>Dim_0</th>\n",
              "      <th>Dim_16</th>\n",
              "      <th>Dim_17</th>\n",
              "      <th>Dim_18</th>\n",
              "      <th>Dim_19</th>\n",
              "      <th>Dim_20</th>\n",
              "      <th>class</th>\n",
              "    </tr>\n",
              "  </thead>\n",
              "  <tbody>\n",
              "    <tr>\n",
              "      <th>0</th>\n",
              "      <td>0.750000</td>\n",
              "      <td>0.001132</td>\n",
              "      <td>0.080780</td>\n",
              "      <td>0.197324</td>\n",
              "      <td>0.300926</td>\n",
              "      <td>0.225000</td>\n",
              "      <td>0</td>\n",
              "    </tr>\n",
              "    <tr>\n",
              "      <th>1</th>\n",
              "      <td>0.239583</td>\n",
              "      <td>0.000472</td>\n",
              "      <td>0.164345</td>\n",
              "      <td>0.235786</td>\n",
              "      <td>0.537037</td>\n",
              "      <td>0.165625</td>\n",
              "      <td>0</td>\n",
              "    </tr>\n",
              "    <tr>\n",
              "      <th>2</th>\n",
              "      <td>0.479167</td>\n",
              "      <td>0.003585</td>\n",
              "      <td>0.130919</td>\n",
              "      <td>0.167224</td>\n",
              "      <td>0.527778</td>\n",
              "      <td>0.118750</td>\n",
              "      <td>0</td>\n",
              "    </tr>\n",
              "    <tr>\n",
              "      <th>3</th>\n",
              "      <td>0.656250</td>\n",
              "      <td>0.001698</td>\n",
              "      <td>0.091922</td>\n",
              "      <td>0.125418</td>\n",
              "      <td>0.337963</td>\n",
              "      <td>0.129688</td>\n",
              "      <td>0</td>\n",
              "    </tr>\n",
              "    <tr>\n",
              "      <th>4</th>\n",
              "      <td>0.229167</td>\n",
              "      <td>0.000472</td>\n",
              "      <td>0.142061</td>\n",
              "      <td>0.229097</td>\n",
              "      <td>0.337963</td>\n",
              "      <td>0.235938</td>\n",
              "      <td>0</td>\n",
              "    </tr>\n",
              "    <tr>\n",
              "      <th>...</th>\n",
              "      <td>...</td>\n",
              "      <td>...</td>\n",
              "      <td>...</td>\n",
              "      <td>...</td>\n",
              "      <td>...</td>\n",
              "      <td>...</td>\n",
              "      <td>...</td>\n",
              "    </tr>\n",
              "    <tr>\n",
              "      <th>7195</th>\n",
              "      <td>0.604167</td>\n",
              "      <td>0.004717</td>\n",
              "      <td>0.113092</td>\n",
              "      <td>0.128763</td>\n",
              "      <td>0.379630</td>\n",
              "      <td>0.121875</td>\n",
              "      <td>0</td>\n",
              "    </tr>\n",
              "    <tr>\n",
              "      <th>7196</th>\n",
              "      <td>0.520833</td>\n",
              "      <td>0.200000</td>\n",
              "      <td>0.030641</td>\n",
              "      <td>0.005017</td>\n",
              "      <td>0.333333</td>\n",
              "      <td>0.005469</td>\n",
              "      <td>1</td>\n",
              "    </tr>\n",
              "    <tr>\n",
              "      <th>7197</th>\n",
              "      <td>0.520833</td>\n",
              "      <td>0.001434</td>\n",
              "      <td>0.109192</td>\n",
              "      <td>0.147157</td>\n",
              "      <td>0.231481</td>\n",
              "      <td>0.206250</td>\n",
              "      <td>0</td>\n",
              "    </tr>\n",
              "    <tr>\n",
              "      <th>7198</th>\n",
              "      <td>0.354167</td>\n",
              "      <td>0.005283</td>\n",
              "      <td>0.109192</td>\n",
              "      <td>0.147157</td>\n",
              "      <td>0.333333</td>\n",
              "      <td>0.154688</td>\n",
              "      <td>0</td>\n",
              "    </tr>\n",
              "    <tr>\n",
              "      <th>7199</th>\n",
              "      <td>0.750000</td>\n",
              "      <td>0.001057</td>\n",
              "      <td>0.109192</td>\n",
              "      <td>0.132107</td>\n",
              "      <td>0.337963</td>\n",
              "      <td>0.137500</td>\n",
              "      <td>0</td>\n",
              "    </tr>\n",
              "  </tbody>\n",
              "</table>\n",
              "<p>7200 rows × 7 columns</p>\n",
              "</div>\n",
              "    <div class=\"colab-df-buttons\">\n",
              "\n",
              "  <div class=\"colab-df-container\">\n",
              "    <button class=\"colab-df-convert\" onclick=\"convertToInteractive('df-dd53123d-f77f-4943-a1c4-cf52aa6b2685')\"\n",
              "            title=\"Convert this dataframe to an interactive table.\"\n",
              "            style=\"display:none;\">\n",
              "\n",
              "  <svg xmlns=\"http://www.w3.org/2000/svg\" height=\"24px\" viewBox=\"0 -960 960 960\">\n",
              "    <path d=\"M120-120v-720h720v720H120Zm60-500h600v-160H180v160Zm220 220h160v-160H400v160Zm0 220h160v-160H400v160ZM180-400h160v-160H180v160Zm440 0h160v-160H620v160ZM180-180h160v-160H180v160Zm440 0h160v-160H620v160Z\"/>\n",
              "  </svg>\n",
              "    </button>\n",
              "\n",
              "  <style>\n",
              "    .colab-df-container {\n",
              "      display:flex;\n",
              "      gap: 12px;\n",
              "    }\n",
              "\n",
              "    .colab-df-convert {\n",
              "      background-color: #E8F0FE;\n",
              "      border: none;\n",
              "      border-radius: 50%;\n",
              "      cursor: pointer;\n",
              "      display: none;\n",
              "      fill: #1967D2;\n",
              "      height: 32px;\n",
              "      padding: 0 0 0 0;\n",
              "      width: 32px;\n",
              "    }\n",
              "\n",
              "    .colab-df-convert:hover {\n",
              "      background-color: #E2EBFA;\n",
              "      box-shadow: 0px 1px 2px rgba(60, 64, 67, 0.3), 0px 1px 3px 1px rgba(60, 64, 67, 0.15);\n",
              "      fill: #174EA6;\n",
              "    }\n",
              "\n",
              "    .colab-df-buttons div {\n",
              "      margin-bottom: 4px;\n",
              "    }\n",
              "\n",
              "    [theme=dark] .colab-df-convert {\n",
              "      background-color: #3B4455;\n",
              "      fill: #D2E3FC;\n",
              "    }\n",
              "\n",
              "    [theme=dark] .colab-df-convert:hover {\n",
              "      background-color: #434B5C;\n",
              "      box-shadow: 0px 1px 3px 1px rgba(0, 0, 0, 0.15);\n",
              "      filter: drop-shadow(0px 1px 2px rgba(0, 0, 0, 0.3));\n",
              "      fill: #FFFFFF;\n",
              "    }\n",
              "  </style>\n",
              "\n",
              "    <script>\n",
              "      const buttonEl =\n",
              "        document.querySelector('#df-dd53123d-f77f-4943-a1c4-cf52aa6b2685 button.colab-df-convert');\n",
              "      buttonEl.style.display =\n",
              "        google.colab.kernel.accessAllowed ? 'block' : 'none';\n",
              "\n",
              "      async function convertToInteractive(key) {\n",
              "        const element = document.querySelector('#df-dd53123d-f77f-4943-a1c4-cf52aa6b2685');\n",
              "        const dataTable =\n",
              "          await google.colab.kernel.invokeFunction('convertToInteractive',\n",
              "                                                    [key], {});\n",
              "        if (!dataTable) return;\n",
              "\n",
              "        const docLinkHtml = 'Like what you see? Visit the ' +\n",
              "          '<a target=\"_blank\" href=https://colab.research.google.com/notebooks/data_table.ipynb>data table notebook</a>'\n",
              "          + ' to learn more about interactive tables.';\n",
              "        element.innerHTML = '';\n",
              "        dataTable['output_type'] = 'display_data';\n",
              "        await google.colab.output.renderOutput(dataTable, element);\n",
              "        const docLink = document.createElement('div');\n",
              "        docLink.innerHTML = docLinkHtml;\n",
              "        element.appendChild(docLink);\n",
              "      }\n",
              "    </script>\n",
              "  </div>\n",
              "\n",
              "\n",
              "<div id=\"df-ee601daa-aa61-4081-a890-edc71534843f\">\n",
              "  <button class=\"colab-df-quickchart\" onclick=\"quickchart('df-ee601daa-aa61-4081-a890-edc71534843f')\"\n",
              "            title=\"Suggest charts\"\n",
              "            style=\"display:none;\">\n",
              "\n",
              "<svg xmlns=\"http://www.w3.org/2000/svg\" height=\"24px\"viewBox=\"0 0 24 24\"\n",
              "     width=\"24px\">\n",
              "    <g>\n",
              "        <path d=\"M19 3H5c-1.1 0-2 .9-2 2v14c0 1.1.9 2 2 2h14c1.1 0 2-.9 2-2V5c0-1.1-.9-2-2-2zM9 17H7v-7h2v7zm4 0h-2V7h2v10zm4 0h-2v-4h2v4z\"/>\n",
              "    </g>\n",
              "</svg>\n",
              "  </button>\n",
              "\n",
              "<style>\n",
              "  .colab-df-quickchart {\n",
              "      --bg-color: #E8F0FE;\n",
              "      --fill-color: #1967D2;\n",
              "      --hover-bg-color: #E2EBFA;\n",
              "      --hover-fill-color: #174EA6;\n",
              "      --disabled-fill-color: #AAA;\n",
              "      --disabled-bg-color: #DDD;\n",
              "  }\n",
              "\n",
              "  [theme=dark] .colab-df-quickchart {\n",
              "      --bg-color: #3B4455;\n",
              "      --fill-color: #D2E3FC;\n",
              "      --hover-bg-color: #434B5C;\n",
              "      --hover-fill-color: #FFFFFF;\n",
              "      --disabled-bg-color: #3B4455;\n",
              "      --disabled-fill-color: #666;\n",
              "  }\n",
              "\n",
              "  .colab-df-quickchart {\n",
              "    background-color: var(--bg-color);\n",
              "    border: none;\n",
              "    border-radius: 50%;\n",
              "    cursor: pointer;\n",
              "    display: none;\n",
              "    fill: var(--fill-color);\n",
              "    height: 32px;\n",
              "    padding: 0;\n",
              "    width: 32px;\n",
              "  }\n",
              "\n",
              "  .colab-df-quickchart:hover {\n",
              "    background-color: var(--hover-bg-color);\n",
              "    box-shadow: 0 1px 2px rgba(60, 64, 67, 0.3), 0 1px 3px 1px rgba(60, 64, 67, 0.15);\n",
              "    fill: var(--button-hover-fill-color);\n",
              "  }\n",
              "\n",
              "  .colab-df-quickchart-complete:disabled,\n",
              "  .colab-df-quickchart-complete:disabled:hover {\n",
              "    background-color: var(--disabled-bg-color);\n",
              "    fill: var(--disabled-fill-color);\n",
              "    box-shadow: none;\n",
              "  }\n",
              "\n",
              "  .colab-df-spinner {\n",
              "    border: 2px solid var(--fill-color);\n",
              "    border-color: transparent;\n",
              "    border-bottom-color: var(--fill-color);\n",
              "    animation:\n",
              "      spin 1s steps(1) infinite;\n",
              "  }\n",
              "\n",
              "  @keyframes spin {\n",
              "    0% {\n",
              "      border-color: transparent;\n",
              "      border-bottom-color: var(--fill-color);\n",
              "      border-left-color: var(--fill-color);\n",
              "    }\n",
              "    20% {\n",
              "      border-color: transparent;\n",
              "      border-left-color: var(--fill-color);\n",
              "      border-top-color: var(--fill-color);\n",
              "    }\n",
              "    30% {\n",
              "      border-color: transparent;\n",
              "      border-left-color: var(--fill-color);\n",
              "      border-top-color: var(--fill-color);\n",
              "      border-right-color: var(--fill-color);\n",
              "    }\n",
              "    40% {\n",
              "      border-color: transparent;\n",
              "      border-right-color: var(--fill-color);\n",
              "      border-top-color: var(--fill-color);\n",
              "    }\n",
              "    60% {\n",
              "      border-color: transparent;\n",
              "      border-right-color: var(--fill-color);\n",
              "    }\n",
              "    80% {\n",
              "      border-color: transparent;\n",
              "      border-right-color: var(--fill-color);\n",
              "      border-bottom-color: var(--fill-color);\n",
              "    }\n",
              "    90% {\n",
              "      border-color: transparent;\n",
              "      border-bottom-color: var(--fill-color);\n",
              "    }\n",
              "  }\n",
              "</style>\n",
              "\n",
              "  <script>\n",
              "    async function quickchart(key) {\n",
              "      const quickchartButtonEl =\n",
              "        document.querySelector('#' + key + ' button');\n",
              "      quickchartButtonEl.disabled = true;  // To prevent multiple clicks.\n",
              "      quickchartButtonEl.classList.add('colab-df-spinner');\n",
              "      try {\n",
              "        const charts = await google.colab.kernel.invokeFunction(\n",
              "            'suggestCharts', [key], {});\n",
              "      } catch (error) {\n",
              "        console.error('Error during call to suggestCharts:', error);\n",
              "      }\n",
              "      quickchartButtonEl.classList.remove('colab-df-spinner');\n",
              "      quickchartButtonEl.classList.add('colab-df-quickchart-complete');\n",
              "    }\n",
              "    (() => {\n",
              "      let quickchartButtonEl =\n",
              "        document.querySelector('#df-ee601daa-aa61-4081-a890-edc71534843f button');\n",
              "      quickchartButtonEl.style.display =\n",
              "        google.colab.kernel.accessAllowed ? 'block' : 'none';\n",
              "    })();\n",
              "  </script>\n",
              "</div>\n",
              "\n",
              "  <div id=\"id_3e4c99ca-7e69-4adb-b36a-0aaf1147738b\">\n",
              "    <style>\n",
              "      .colab-df-generate {\n",
              "        background-color: #E8F0FE;\n",
              "        border: none;\n",
              "        border-radius: 50%;\n",
              "        cursor: pointer;\n",
              "        display: none;\n",
              "        fill: #1967D2;\n",
              "        height: 32px;\n",
              "        padding: 0 0 0 0;\n",
              "        width: 32px;\n",
              "      }\n",
              "\n",
              "      .colab-df-generate:hover {\n",
              "        background-color: #E2EBFA;\n",
              "        box-shadow: 0px 1px 2px rgba(60, 64, 67, 0.3), 0px 1px 3px 1px rgba(60, 64, 67, 0.15);\n",
              "        fill: #174EA6;\n",
              "      }\n",
              "\n",
              "      [theme=dark] .colab-df-generate {\n",
              "        background-color: #3B4455;\n",
              "        fill: #D2E3FC;\n",
              "      }\n",
              "\n",
              "      [theme=dark] .colab-df-generate:hover {\n",
              "        background-color: #434B5C;\n",
              "        box-shadow: 0px 1px 3px 1px rgba(0, 0, 0, 0.15);\n",
              "        filter: drop-shadow(0px 1px 2px rgba(0, 0, 0, 0.3));\n",
              "        fill: #FFFFFF;\n",
              "      }\n",
              "    </style>\n",
              "    <button class=\"colab-df-generate\" onclick=\"generateWithVariable('df')\"\n",
              "            title=\"Generate code using this dataframe.\"\n",
              "            style=\"display:none;\">\n",
              "\n",
              "  <svg xmlns=\"http://www.w3.org/2000/svg\" height=\"24px\"viewBox=\"0 0 24 24\"\n",
              "       width=\"24px\">\n",
              "    <path d=\"M7,19H8.4L18.45,9,17,7.55,7,17.6ZM5,21V16.75L18.45,3.32a2,2,0,0,1,2.83,0l1.4,1.43a1.91,1.91,0,0,1,.58,1.4,1.91,1.91,0,0,1-.58,1.4L9.25,21ZM18.45,9,17,7.55Zm-12,3A5.31,5.31,0,0,0,4.9,8.1,5.31,5.31,0,0,0,1,6.5,5.31,5.31,0,0,0,4.9,4.9,5.31,5.31,0,0,0,6.5,1,5.31,5.31,0,0,0,8.1,4.9,5.31,5.31,0,0,0,12,6.5,5.46,5.46,0,0,0,6.5,12Z\"/>\n",
              "  </svg>\n",
              "    </button>\n",
              "    <script>\n",
              "      (() => {\n",
              "      const buttonEl =\n",
              "        document.querySelector('#id_3e4c99ca-7e69-4adb-b36a-0aaf1147738b button.colab-df-generate');\n",
              "      buttonEl.style.display =\n",
              "        google.colab.kernel.accessAllowed ? 'block' : 'none';\n",
              "\n",
              "      buttonEl.onclick = () => {\n",
              "        google.colab.notebook.generateWithVariable('df');\n",
              "      }\n",
              "      })();\n",
              "    </script>\n",
              "  </div>\n",
              "\n",
              "    </div>\n",
              "  </div>\n"
            ],
            "application/vnd.google.colaboratory.intrinsic+json": {
              "type": "dataframe",
              "variable_name": "df",
              "summary": "{\n  \"name\": \"df\",\n  \"rows\": 7200,\n  \"fields\": [\n    {\n      \"column\": \"Dim_0\",\n      \"properties\": {\n        \"dtype\": \"number\",\n        \"std\": 0.19715558080689036,\n        \"min\": 0.0,\n        \"max\": 1.0,\n        \"num_unique_values\": 98,\n        \"samples\": [\n          0.520833,\n          0.59375,\n          0.979167\n        ],\n        \"semantic_type\": \"\",\n        \"description\": \"\"\n      }\n    },\n    {\n      \"column\": \"Dim_16\",\n      \"properties\": {\n        \"dtype\": \"number\",\n        \"std\": 0.04335715534113589,\n        \"min\": 0.0,\n        \"max\": 1.0,\n        \"num_unique_values\": 326,\n        \"samples\": [\n          0.000604,\n          0.000226,\n          1.0\n        ],\n        \"semantic_type\": \"\",\n        \"description\": \"\"\n      }\n    },\n    {\n      \"column\": \"Dim_17\",\n      \"properties\": {\n        \"dtype\": \"number\",\n        \"std\": 0.04200084849530194,\n        \"min\": 0.0,\n        \"max\": 1.0,\n        \"num_unique_values\": 85,\n        \"samples\": [\n          0.526462,\n          0.08078,\n          0.314763\n        ],\n        \"semantic_type\": \"\",\n        \"description\": \"\"\n      }\n    },\n    {\n      \"column\": \"Dim_18\",\n      \"properties\": {\n        \"dtype\": \"number\",\n        \"std\": 0.06014809106813288,\n        \"min\": 0.0,\n        \"max\": 1.0,\n        \"num_unique_values\": 272,\n        \"samples\": [\n          0.202341,\n          0.115385,\n          0.41806\n        ],\n        \"semantic_type\": \"\",\n        \"description\": \"\"\n      }\n    },\n    {\n      \"column\": \"Dim_19\",\n      \"properties\": {\n        \"dtype\": \"number\",\n        \"std\": 0.08835428440937693,\n        \"min\": 0.0,\n        \"max\": 1.0,\n        \"num_unique_values\": 161,\n        \"samples\": [\n          0.523148,\n          0.601852,\n          0.74537\n        ],\n        \"semantic_type\": \"\",\n        \"description\": \"\"\n      }\n    },\n    {\n      \"column\": \"Dim_20\",\n      \"properties\": {\n        \"dtype\": \"number\",\n        \"std\": 0.056402458417453984,\n        \"min\": 0.0,\n        \"max\": 1.0,\n        \"num_unique_values\": 466,\n        \"samples\": [\n          0.115625,\n          0.153125,\n          0.273438\n        ],\n        \"semantic_type\": \"\",\n        \"description\": \"\"\n      }\n    },\n    {\n      \"column\": \"class\",\n      \"properties\": {\n        \"dtype\": \"number\",\n        \"std\": 0,\n        \"min\": 0,\n        \"max\": 1,\n        \"num_unique_values\": 2,\n        \"samples\": [\n          1,\n          0\n        ],\n        \"semantic_type\": \"\",\n        \"description\": \"\"\n      }\n    }\n  ]\n}"
            }
          },
          "metadata": {},
          "execution_count": 3
        }
      ],
      "source": [
        "# The shape of the dataset will be like that\n",
        "df"
      ]
    },
    {
      "cell_type": "markdown",
      "id": "0cf5dec9-34e0-4afc-9e1c-b9d05440001c",
      "metadata": {
        "id": "0cf5dec9-34e0-4afc-9e1c-b9d05440001c"
      },
      "source": [
        "## Problem 1\n",
        "* Complete the following cell to calculate the number of normal and abnormal data points.\n",
        "* Save the number of normal data points in the variable 'n_normal' and the number of abnormal data points in the variable 'n_anormal'."
      ]
    },
    {
      "cell_type": "code",
      "execution_count": null,
      "id": "a8fd22b2-4737-4595-85ab-cf5b87bab145",
      "metadata": {
        "id": "a8fd22b2-4737-4595-85ab-cf5b87bab145"
      },
      "outputs": [],
      "source": [
        "## Complete following code int the cell\n",
        "n_normal = # Complete the code\n",
        "n_anormal = # Complete the code"
      ]
    },
    {
      "cell_type": "code",
      "execution_count": null,
      "id": "acd05506-6643-4d5e-926e-0ec2901a8a87",
      "metadata": {
        "id": "acd05506-6643-4d5e-926e-0ec2901a8a87",
        "outputId": "d2a714f6-6b52-4cec-d8d6-d9f88e7132a3"
      },
      "outputs": [
        {
          "name": "stdout",
          "output_type": "stream",
          "text": [
            "Number of normal data points: 6666\n",
            "Number of abnormal data points: 534\n"
          ]
        }
      ],
      "source": [
        "## Answer checking (If your are correct and run the following cell, the following will be printed.\n",
        "print(f\"Number of normal data points: {n_normal}\")\n",
        "print(f\"Number of abnormal data points: {n_anormal}\")"
      ]
    },
    {
      "cell_type": "markdown",
      "id": "0d080e76-d92b-4eda-8f35-c87dfd677de1",
      "metadata": {
        "id": "0d080e76-d92b-4eda-8f35-c87dfd677de1"
      },
      "source": [
        "## Problem 2\n",
        "* Next we will split the dataset into training/validation/testing\n",
        "* First, 75% of normal data will be used for trining\n",
        "* Second, remaining 25% normal data and entire anormal data will be evenly splitted into validation and testing dataset\n",
        "* Complete the following cell to split the dataset"
      ]
    },
    {
      "cell_type": "code",
      "execution_count": null,
      "id": "08159c8f-780e-40c4-846a-04f50ce80b3b",
      "metadata": {
        "tags": [],
        "id": "08159c8f-780e-40c4-846a-04f50ce80b3b"
      },
      "outputs": [],
      "source": [
        "## You don't need to code, but you have to run\n",
        "\n",
        "## Split the data with respect to the normal/anormal\n",
        "df_normal = df[df['class']==0]\n",
        "df_anormal = df[df['class']==1]\n",
        "\n",
        "## Splitting data for normal\n",
        "y_normal = df_normal['class']\n",
        "X_normal = df_normal.drop(columns=['class'])\n",
        "\n",
        "## Splitting data for anormal\n",
        "y_anormal = df_anormal['class']\n",
        "X_anormal = df_anormal.drop(columns=['class'])"
      ]
    },
    {
      "cell_type": "code",
      "execution_count": null,
      "id": "44a18470-3185-42fb-8c50-a50195382595",
      "metadata": {
        "ExecuteTime": {
          "end_time": "2024-06-05T07:14:12.070887Z",
          "start_time": "2024-06-05T07:14:12.042988Z"
        },
        "id": "44a18470-3185-42fb-8c50-a50195382595"
      },
      "outputs": [],
      "source": [
        "## Complete following code int the cell\n",
        "\n",
        "# Split normal data into training (75%) and the remaining (25%)\n",
        "X_normal_train, X_normal_temp, y_normal_train, y_normal_temp = train_test_split( , , , random_state=42) # Complete the code\n",
        "X_normal_val, X_normal_test, y_normal_val, y_normal_test = train_test_split( , , test_size=0.5, random_state=42) # Complete the code\n",
        "\n",
        "# Use all the anormal data for validation and testing\n",
        "X_anormal_val, X_anormal_test, y_anormal_val, y_anormal_test = train_test_split( , , test_size=0.5, random_state=42) # Complete the code\n",
        "\n",
        "# Combine normal and anormal data for validation and testing\n",
        "X_val = np.vstack((X_normal_val, X_anormal_val))\n",
        "y_val = np.hstack((y_normal_val, y_anormal_val))\n",
        "\n",
        "X_test = np.vstack((X_normal_test, X_anormal_test))\n",
        "y_test = np.hstack((y_normal_test, y_anormal_test))"
      ]
    },
    {
      "cell_type": "code",
      "execution_count": null,
      "id": "a17bb131-4568-4ea6-9e9a-238e2dec070e",
      "metadata": {
        "id": "a17bb131-4568-4ea6-9e9a-238e2dec070e",
        "outputId": "80ac40da-6c1b-4903-a39f-e24fdbe32cc4"
      },
      "outputs": [
        {
          "name": "stdout",
          "output_type": "stream",
          "text": [
            "Shape of X_train: (4999, 6)\n",
            "Shape of X_val: (1100, 6)\n",
            "Shape of X_test: (1101, 6)\n"
          ]
        }
      ],
      "source": [
        "## Answer checking (If your are correct and run the following cell, the following will be printed.\n",
        "print(f\"Shape of X_train: {X_normal_train.shape}\")\n",
        "print(f\"Shape of X_val: {X_val.shape}\")\n",
        "print(f\"Shape of X_test: {X_test.shape}\")"
      ]
    },
    {
      "cell_type": "markdown",
      "id": "35f368ba-0a84-427d-bfa9-6873569a1910",
      "metadata": {
        "id": "35f368ba-0a84-427d-bfa9-6873569a1910"
      },
      "source": [
        "## Problem 3.\n",
        "* Next we will perform hyper parameter tuning of Isolation Forest to find the best model using Validation Dataset\n",
        "* Note that IForest model use same API for sklearn\n",
        "* However, we cannot directly run GridSearchCV in this setting\n",
        "* So we will directly iterate the entire hyper parameter spaces"
      ]
    },
    {
      "cell_type": "code",
      "execution_count": null,
      "id": "cebacb67-92a1-4cd1-b1ce-b8207713c3ab",
      "metadata": {
        "ExecuteTime": {
          "end_time": "2024-06-05T07:15:52.258548Z",
          "start_time": "2024-06-05T07:15:06.769226Z"
        },
        "tags": [],
        "id": "cebacb67-92a1-4cd1-b1ce-b8207713c3ab",
        "outputId": "f9d0f192-e3f8-4034-b3ba-651c220ceca1"
      },
      "outputs": [
        {
          "name": "stdout",
          "output_type": "stream",
          "text": [
            "Best Hyperparameters: {'n_estimators': 100, 'max_samples': 'auto', 'contamination': 0.2, 'max_features': 0.8}\n",
            "Best Validation F1-Score: 0.7519260400616332\n"
          ]
        }
      ],
      "source": [
        "import numpy as np\n",
        "import pandas as pd\n",
        "from sklearn.metrics import f1_score, precision_score, recall_score, roc_auc_score\n",
        "from sklearn.model_selection import train_test_split\n",
        "\n",
        "# Hyperparameter grid\n",
        "param_grid = {\n",
        "    'n_estimators': [100, 200, 300],\n",
        "    'max_samples': ['auto'],\n",
        "    'contamination': [0.1, 0.2,0.3,0.5],\n",
        "    'max_features': [1.0, 0.5, 0.8]\n",
        "}\n",
        "\n",
        "# Function to train and evaluate IsolationForest with given hyperparameters\n",
        "# We will use f1 metric for finding best hyper parameter\n",
        "def train_and_evaluate(params):\n",
        "    iso_forest = IForest(\n",
        "        n_estimators=params['n_estimators'],\n",
        "        max_samples=params['max_samples'],\n",
        "        contamination=params['contamination'],\n",
        "        max_features=params['max_features'],\n",
        "        random_state=42\n",
        "    )\n",
        "    iso_forest.fit() # Complete the code\n",
        "    y_val_pred = iso_forest.predict() # Complete the code\n",
        "    metric = f1_score(, ) # Complete the code\n",
        "    return metric\n",
        "\n",
        "# Perform manual hyperparameter tuning\n",
        "best_params = None\n",
        "best_metric = -np.inf\n",
        "\n",
        "for n_estimators in param_grid['n_estimators']:\n",
        "    for max_samples in param_grid['max_samples']:\n",
        "        for contamination in param_grid['contamination']:\n",
        "            for max_features in param_grid['max_features']:\n",
        "                params = {\n",
        "                    'n_estimators': n_estimators,\n",
        "                    'max_samples': max_samples,\n",
        "                    'contamination': contamination,\n",
        "                    'max_features': max_features\n",
        "                }\n",
        "                metric = train_and_evaluate(params)\n",
        "                if metric > best_metric:\n",
        "                    best_metric = # complete the code\n",
        "                    best_params = # complete the code\n",
        "\n",
        "print(f'Best Hyperparameters: {best_params}')\n",
        "print(f'Best Validation F1-Score: {best_metric}')"
      ]
    },
    {
      "cell_type": "markdown",
      "id": "74523ea6-00fd-4974-b932-ca3301efd988",
      "metadata": {
        "id": "74523ea6-00fd-4974-b932-ca3301efd988"
      },
      "source": [
        "## Problem 4.\n",
        "* Now the best params is stored in 'best_params'\n",
        "* You will now re-run the IsolationForest model with best hyper parameters using TEST dataset\n",
        "* Also, we will now check the performance of our best model using various metrics"
      ]
    },
    {
      "cell_type": "code",
      "execution_count": null,
      "id": "237cc793-502f-48af-9d9a-994a75c03ab9",
      "metadata": {
        "id": "237cc793-502f-48af-9d9a-994a75c03ab9",
        "outputId": "f9dbe6a4-3fe7-42f4-b1c7-f01010b43b57"
      },
      "outputs": [
        {
          "name": "stdout",
          "output_type": "stream",
          "text": [
            "Test Precision: 0.5785714285714286\n",
            "Test Recall: 0.9101123595505618\n",
            "Test F1-Score: 0.7074235807860262\n",
            "Test AUC-ROC: 0.8489410718616118\n"
          ]
        }
      ],
      "source": [
        "# Train the best model on the training data\n",
        "best_iso_forest = IForest(\n",
        "    n_estimators=# Complete the code,\n",
        "    max_samples=# Complete the code,\n",
        "    contamination=# Complete the code,\n",
        "    max_features=# Complete the code\n",
        "    random_state=42\n",
        ")\n",
        "best_iso_forest.fit() ## Complete the code\n",
        "\n",
        "# Predicting anomalies on testing set\n",
        "y_test_pred = best_iso_forest.predict() # Complete the code\n",
        "\n",
        "# Evaluating on testing set\n",
        "precision_test = precision_score( , ) # Complete the code,\n",
        "recall_test = recall_score( , ) # Complete the code,\n",
        "f1_test = f1_score( , ) # Complete the code,\n",
        "roc_auc_test = roc_auc_score( , ) # Complete the code,\n",
        "\n",
        "print(f'Test Precision: {precision_test}')\n",
        "print(f'Test Recall: {recall_test}')\n",
        "print(f'Test F1-Score: {f1_test}')\n",
        "print(f'Test AUC-ROC: {roc_auc_test}')"
      ]
    },
    {
      "cell_type": "markdown",
      "id": "f41c93a2-9d5d-40c3-8670-342500c652c1",
      "metadata": {
        "id": "f41c93a2-9d5d-40c3-8670-342500c652c1"
      },
      "source": [
        "## Problem 5.\n",
        "* Also we want to examine confusion matrix of our result\n",
        "* Try to extract True Positive, False Positive, True Negative, False Negative\n",
        "* You have to search confusion_matrix API of scikit learn"
      ]
    },
    {
      "cell_type": "code",
      "execution_count": null,
      "id": "c4a1bec8-6d1c-4c69-874c-4a58b6afa86b",
      "metadata": {
        "id": "c4a1bec8-6d1c-4c69-874c-4a58b6afa86b"
      },
      "outputs": [],
      "source": [
        "from sklearn.metrics import confusion_matrix\n",
        "cm = confusion_matrix(y_test, y_test_pred)\n",
        "\n",
        "tp = # complete the following code\n",
        "fp = # complete the following code\n",
        "tn = # complete the following code\n",
        "fn = # complete the following code\n"
      ]
    },
    {
      "cell_type": "code",
      "execution_count": null,
      "id": "43b36fe9-f7b0-451c-9f03-4438a8957199",
      "metadata": {
        "id": "43b36fe9-f7b0-451c-9f03-4438a8957199",
        "outputId": "dc59e281-0448-4725-cca1-695957e21a39"
      },
      "outputs": [
        {
          "name": "stdout",
          "output_type": "stream",
          "text": [
            "True Positive: 243\n",
            "False Positive: 24\n",
            "True Negative: 657\n",
            "False Negative: 177\n"
          ]
        }
      ],
      "source": [
        "## Answer checking (If your are correct and run the following cell, the following will be printed.\n",
        "print(f\"True Positive: {tp}\")\n",
        "print(f\"False Positive: {fp}\")\n",
        "print(f\"True Negative: {tn}\")\n",
        "print(f\"False Negative: {fn}\")"
      ]
    },
    {
      "cell_type": "markdown",
      "id": "477141db-1c53-41ed-9075-97ebafb9010a",
      "metadata": {
        "id": "477141db-1c53-41ed-9075-97ebafb9010a"
      },
      "source": [
        "## Problem 6 (Extra Credit)\n",
        "* Try to apply the same procedure using PYOD anomaly detection algorithms like LOF, CBOD, ...\n",
        "* Your experment result should be recorded in the following cells..\n",
        "* You have search PYOD in google and try to find the document\n",
        "* Hyper parameter setting depend on student's choice (Avoid too much hyper paramter grids)\n"
      ]
    },
    {
      "cell_type": "code",
      "execution_count": null,
      "id": "cbe1f0d4-88e3-4a08-a873-0b0a7626e4c7",
      "metadata": {
        "id": "cbe1f0d4-88e3-4a08-a873-0b0a7626e4c7"
      },
      "outputs": [],
      "source": [
        "# complete the following code"
      ]
    }
  ],
  "metadata": {
    "kernelspec": {
      "display_name": "Python 3",
      "language": "python",
      "name": "python3"
    },
    "language_info": {
      "codemirror_mode": {
        "name": "ipython",
        "version": 3
      },
      "file_extension": ".py",
      "mimetype": "text/x-python",
      "name": "python",
      "nbconvert_exporter": "python",
      "pygments_lexer": "ipython3",
      "version": "3.8.10"
    },
    "toc": {
      "base_numbering": 1,
      "nav_menu": {},
      "number_sections": false,
      "sideBar": true,
      "skip_h1_title": false,
      "title_cell": "Table of Contents",
      "title_sidebar": "Contents",
      "toc_cell": false,
      "toc_position": {},
      "toc_section_display": true,
      "toc_window_display": false
    },
    "colab": {
      "provenance": []
    }
  },
  "nbformat": 4,
  "nbformat_minor": 5
}